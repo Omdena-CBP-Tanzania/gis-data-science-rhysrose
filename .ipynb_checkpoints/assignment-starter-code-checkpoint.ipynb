{
 "cells": [
  {
   "cell_type": "markdown",
   "metadata": {},
   "source": [
    "# GIS Data Science Assignment: Climate Change Analysis in Tanzania\n",
    "\n",
    "In this assignment, you will analyze climate change patterns in Tanzania using GIS data. You will work with spatial data to understand, visualize, and analyze climate trends across different regions of Tanzania.\n",
    "\n",
    "## Setup\n",
    "First, let's import the necessary libraries:"
   ]
  },
  {
   "cell_type": "code",
   "execution_count": null,
   "metadata": {},
   "outputs": [],
   "source": [
    "# Run this cell to install any missing dependencies\n",
    "!pip install geopandas matplotlib numpy pandas seaborn folium mapclassify xarray rasterio contextily"
   ]
  },
  {
   "cell_type": "code",
   "execution_count": null,
   "metadata": {},
   "outputs": [],
   "source": [
    "# Import necessary libraries\n",
    "import geopandas as gpd\n",
    "import pandas as pd\n",
    "import numpy as np\n",
    "import matplotlib.pyplot as plt\n",
    "import seaborn as sns\n",
    "import folium\n",
    "import os\n",
    "from matplotlib.colors import ListedColormap\n",
    "import contextily as ctx\n",
    "\n",
    "# Set plotting parameters\n",
    "plt.rcParams['figure.figsize'] = (12, 8)\n",
    "sns.set(style=\"whitegrid\")"
   ]
  },
  {
   "cell_type": "markdown",
   "metadata": {},
   "source": [
    "## Part 1: GIS Data Basics\n",
    "\n",
    "### Task 1.1: Load the Tanzania Shapefile\n",
    "Load the Tanzania administrative boundaries shapefile and examine its structure."
   ]
  },
  {
   "cell_type": "code",
   "execution_count": null,
   "metadata": {},
   "outputs": [],
   "source": [
    "# TODO: Load the Tanzania shapefile\n",
    "# Hint: Use gpd.read_file() to load the shapefile\n",
    "tz_shapefile = None\n",
    "\n",
    "# Function to display basic information about a GeoDataFrame\n",
    "def describe_geodataframe(gdf):\n",
    "    \"\"\"Display basic information about a GeoDataFrame.\n",
    "    \n",
    "    Parameters:\n",
    "    gdf (GeoDataFrame): The GeoDataFrame to describe\n",
    "    \n",
    "    Returns:\n",
    "    dict: A dictionary containing basic information about the GeoDataFrame\n",
    "    \"\"\"\n",
    "    info = {\n",
    "        'crs': None,  # TODO: Get the coordinate reference system\n",
    "        'geometry_type': None,  # TODO: Get the geometry type\n",
    "        'num_features': None,  # TODO: Get the number of features\n",
    "        'attributes': None,  # TODO: Get the attribute column names\n",
    "        'total_area': None,  # TODO: Calculate the total area in square kilometers\n",
    "        'bounds': None  # TODO: Get the bounds of the dataset\n",
    "    }\n",
    "    return info\n",
    "\n",
    "# Call the function with your loaded shapefile\n",
    "tz_info = None"
   ]
  },
  {
   "cell_type": "markdown",
   "metadata": {},
   "source": [
    "### Task 1.2: Understand Coordinate Reference Systems\n",
    "Explain the current CRS and reproject the data to a suitable projection for Tanzania."
   ]
  },
  {
   "cell_type": "code",
   "execution_count": null,
   "metadata": {},
   "outputs": [],
   "source": [
    "# TODO: Identify the current CRS and explain why it might not be optimal for Tanzania\n",
    "\n",
    "# TODO: Reproject the data to a more appropriate CRS for Tanzania\n",
    "# Hint: Consider using EPSG:21037 (Arc 1960 / UTM zone 37S) which is suitable for Tanzania\n",
    "tz_projected = None\n",
    "\n",
    "# TODO: Compare the original and reprojected data\n",
    "# Hint: Create a function that compares areas before and after reprojection\n",
    "def compare_projections(original_gdf, reprojected_gdf):\n",
    "    \"\"\"Compare the original and reprojected GeoDataFrames.\n",
    "    \n",
    "    Parameters:\n",
    "    original_gdf (GeoDataFrame): The original GeoDataFrame\n",
    "    reprojected_gdf (GeoDataFrame): The reprojected GeoDataFrame\n",
    "    \n",
    "    Returns:\n",
    "    dict: A dictionary containing comparison metrics\n",
    "    \"\"\"\n",
    "    comparison = {\n",
    "        'original_crs': None,  # TODO: Get the original CRS\n",
    "        'new_crs': None,  # TODO: Get the new CRS\n",
    "        'original_area': None,  # TODO: Calculate the total area in the original projection\n",
    "        'new_area': None,  # TODO: Calculate the total area in the new projection\n",
    "        'percent_difference': None  # TODO: Calculate the percentage difference in area\n",
    "    }\n",
    "    return comparison\n",
    "\n",
    "# Call the comparison function\n",
    "projection_comparison = None"
   ]
  },
  {
   "cell_type": "markdown",
   "metadata": {},
   "source": [
    "## Part 2: Data Loading and Processing\n",
    "\n",
    "### Task 2.1: Load Climate Data\n",
    "Load the provided climate data for Tanzania and examine its structure."
   ]
  },
  {
   "cell_type": "code",
   "execution_count": null,
   "metadata": {},
   "outputs": [],
   "source": [
    "# TODO: Load the climate data CSV file\n",
    "climate_data = None\n",
    "\n",
    "# TODO: Display the first few rows and basic statistics of the climate data\n",
    "# Hint: Use .head(), .describe(), and .info() methods\n",
    "\n",
    "# TODO: Check for missing values and handle them appropriately\n",
    "def check_missing_values(df):\n",
    "    \"\"\"Check for missing values in a DataFrame and return a summary.\n",
    "    \n",
    "    Parameters:\n",
    "    df (DataFrame): The DataFrame to check\n",
    "    \n",
    "    Returns:\n",
    "    DataFrame: A summary of missing values by column\n",
    "    \"\"\"\n",
    "    # TODO: Implement this function\n",
    "    pass\n",
    "\n",
    "missing_summary = None"
   ]
  },
  {
   "cell_type": "markdown",
   "metadata": {},
   "source": [
    "### Task 2.2: Join Climate Data with Spatial Data\n",
    "Merge the climate data with the Tanzania shapefile based on a common identifier."
   ]
  },
  {
   "cell_type": "code",
   "execution_count": null,
   "metadata": {},
   "outputs": [],
   "source": [
    "# TODO: Identify the common field between the climate data and the shapefile\n",
    "# Hint: Look for a region/district identifier in both datasets\n",
    "\n",
    "# TODO: Join the climate data with the shapefile\n",
    "# Hint: Use the merge() or join() method\n",
    "tz_climate = None\n",
    "\n",
    "# TODO: Verify the join was successful by checking the shape and contents of the result\n",
    "def verify_join(original_gdf, joined_gdf, climate_df):\n",
    "    \"\"\"Verify that the join between spatial and climate data was successful.\n",
    "    \n",
    "    Parameters:\n",
    "    original_gdf (GeoDataFrame): The original spatial GeoDataFrame\n",
    "    joined_gdf (GeoDataFrame): The joined GeoDataFrame\n",
    "    climate_df (DataFrame): The climate DataFrame\n",
    "    \n",
    "    Returns:\n",
    "    dict: A dictionary containing verification metrics\n",
    "    \"\"\"\n",
    "    verification = {\n",
    "        'original_features': None,  # TODO: Get the number of features in the original GeoDataFrame\n",
    "        'joined_features': None,  # TODO: Get the number of features in the joined GeoDataFrame\n",
    "        'climate_records': None,  # TODO: Get the number of records in the climate DataFrame\n",
    "        'joined_columns': None,  # TODO: Get the column names in the joined GeoDataFrame\n",
    "        'is_successful': None  # TODO: Determine if the join was successful\n",
    "    }\n",
    "    return verification\n",
    "\n",
    "join_verification = None"
   ]
  },
  {
   "cell_type": "markdown",
   "metadata": {},
   "source": [
    "## Part 3: Data Visualization\n",
    "\n",
    "### Task 3.1: Create a Choropleth Map\n",
    "Create a choropleth map showing average temperature across Tanzania regions."
   ]
  },
  {
   "cell_type": "code",
   "execution_count": null,
   "metadata": {},
   "outputs": [],
   "source": [
    "# TODO: Create a choropleth map of average temperature by region\n",
    "# Hint: Use the .plot() method with the column parameter\n",
    "def create_choropleth(gdf, column, title, cmap='viridis', figsize=(12, 8)):\n",
    "    \"\"\"Create a choropleth map for a GeoDataFrame.\n",
    "    \n",
    "    Parameters:\n",
    "    gdf (GeoDataFrame): The GeoDataFrame to plot\n",
    "    column (str): The column to use for coloring\n",
    "    title (str): The title of the map\n",
    "    cmap (str or Colormap): The colormap to use\n",
    "    figsize (tuple): The figure size\n",
    "    \n",
    "    Returns:\n",
    "    matplotlib.figure.Figure: The created figure\n",
    "    \"\"\"\n",
    "    # TODO: Implement this function\n",
    "    pass\n",
    "\n",
    "temp_map = None"
   ]
  },
  {
   "cell_type": "markdown",
   "metadata": {},
   "source": [
    "### Task 3.2: Create a Time Series Visualization\n",
    "Create a time series visualization showing temperature trends over time for selected regions."
   ]
  },
  {
   "cell_type": "code",
   "execution_count": null,
   "metadata": {},
   "outputs": [],
   "source": [
    "# TODO: Select a few representative regions for the time series\n",
    "# Hint: Choose regions from different parts of the country\n",
    "selected_regions = None\n",
    "\n",
    "# TODO: Filter the climate data for these regions\n",
    "region_climate_data = None\n",
    "\n",
    "# TODO: Create a time series plot of temperature trends\n",
    "def plot_time_series(df, regions, time_column, value_column, title, figsize=(12, 8)):\n",
    "    \"\"\"Create a time series plot for selected regions.\n",
    "    \n",
    "    Parameters:\n",
    "    df (DataFrame): The DataFrame containing the time series data\n",
    "    regions (list): The list of regions to include\n",
    "    time_column (str): The column containing time information\n",
    "    value_column (str): The column containing the values to plot\n",
    "    title (str): The title of the plot\n",
    "    figsize (tuple): The figure size\n",
    "    \n",
    "    Returns:\n",
    "    matplotlib.figure.Figure: The created figure\n",
    "    \"\"\"\n",
    "    # TODO: Implement this function\n",
    "    pass\n",
    "\n",
    "temp_time_series = None"
   ]
  },
  {
   "cell_type": "markdown",
   "metadata": {},
   "source": [
    "### Task 3.3: Create an Interactive Map\n",
    "Create an interactive map showing climate data using Folium."
   ]
  },
  {
   "cell_type": "code",
   "execution_count": null,
   "metadata": {},
   "outputs": [],
   "source": [
    "# TODO: Convert the projected GeoDataFrame to WGS84 for use with Folium\n",
    "tz_wgs84 = None\n",
    "\n",
    "# TODO: Create an interactive map using Folium\n",
    "def create_interactive_map(gdf, column, popup_columns, title, center=None, zoom_start=6):\n",
    "    \"\"\"Create an interactive map using Folium.\n",
    "    \n",
    "    Parameters:\n",
    "    gdf (GeoDataFrame): The GeoDataFrame to map (must be in WGS84)\n",
    "    column (str): The column to use for coloring\n",
    "    popup_columns (list): Columns to include in the popup\n",
    "    title (str): The title of the map\n",
    "    center (tuple): The center coordinates [lat, lon]\n",
    "    zoom_start (int): The initial zoom level\n",
    "    \n",
    "    Returns:\n",
    "    folium.Map: The created interactive map\n",
    "    \"\"\"\n",
    "    # TODO: Implement this function\n",
    "    pass\n",
    "\n",
    "interactive_map = None\n",
    "# Display the map\n",
    "# interactive_map"
   ]
  },
  {
   "cell_type": "markdown",
   "metadata": {},
   "source": [
    "## Part 4: Climate Change EDA\n",
    "\n",
    "### Task 4.1: Analyze Temperature Trends\n",
    "Analyze the trends in temperature across Tanzania over time."
   ]
  },
  {
   "cell_type": "code",
   "execution_count": null,
   "metadata": {},
   "outputs": [],
   "source": [
    "# TODO: Calculate temperature trends for each region\n",
    "def calculate_temperature_trends(df, region_column, year_column, temp_column):\n",
    "    \"\"\"Calculate temperature trends for each region.\n",
    "    \n",
    "    Parameters:\n",
    "    df (DataFrame): The DataFrame containing climate data\n",
    "    region_column (str): The column containing region identifiers\n",
    "    year_column (str): The column containing year information\n",
    "    temp_column (str): The column containing temperature values\n",
    "    \n",
    "    Returns:\n",
    "    DataFrame: A DataFrame containing trend information for each region\n",
    "    \"\"\"\n",
    "    # TODO: Implement this function using linear regression or other trend analysis methods\n",
    "    pass\n",
    "\n",
    "temp_trends = None\n",
    "\n",
    "# TODO: Visualize the temperature trends\n",
    "def plot_temperature_trends(trends_df, region_column, trend_column, title, figsize=(12, 8)):\n",
    "    \"\"\"Plot temperature trends by region.\n",
    "    \n",
    "    Parameters:\n",
    "    trends_df (DataFrame): The DataFrame containing trend information\n",
    "    region_column (str): The column containing region identifiers\n",
    "    trend_column (str): The column containing trend values\n",
    "    title (str): The title of the plot\n",
    "    figsize (tuple): The figure size\n",
    "    \n",
    "    Returns:\n",
    "    matplotlib.figure.Figure: The created figure\n",
    "    \"\"\"\n",
    "    # TODO: Implement this function\n",
    "    pass\n",
    "\n",
    "trends_plot = None"
   ]
  },
  {
   "cell_type": "markdown",
   "metadata": {},
   "source": [
    "### Task 4.2: Identify Climate Change Hotspots\n",
    "Identify regions in Tanzania that are experiencing the most significant climate change."
   ]
  },
  {
   "cell_type": "code",
   "execution_count": null,
   "metadata": {},
   "outputs": [],
   "source": [
    "# TODO: Define criteria for climate change hotspots\n",
    "# Hint: Consider temperature trends, precipitation changes, extreme weather events, etc.\n",
    "\n",
    "# TODO: Implement a function to identify hotspots based on your criteria\n",
    "def identify_hotspots(climate_gdf, criteria_columns, threshold_values):\n",
    "    \"\"\"Identify climate change hotspots based on specified criteria.\n",
    "    \n",
    "    Parameters:\n",
    "    climate_gdf (GeoDataFrame): The GeoDataFrame containing climate and spatial data\n",
    "    criteria_columns (list): The columns to use as criteria\n",
    "    threshold_values (dict): A dictionary mapping criteria columns to threshold values\n",
    "    \n",
    "    Returns:\n",
    "    GeoDataFrame: A GeoDataFrame containing only the hotspot regions\n",
    "    \"\"\"\n",
    "    # TODO: Implement this function\n",
    "    pass\n",
    "\n",
    "hotspots = None\n",
    "\n",
    "# TODO: Visualize the identified hotspots\n",
    "hotspot_map = None"
   ]
  },
  {
   "cell_type": "markdown",
   "metadata": {},
   "source": [
    "### Task 4.3: Regional Climate Variation Analysis\n",
    "Analyze how climate variables vary across different regions of Tanzania."
   ]
  },
  {
   "cell_type": "code",
   "execution_count": null,
   "metadata": {},
   "outputs": [],
   "source": [
    "# TODO: Calculate regional statistics for climate variables\n",
    "def calculate_regional_stats(gdf, region_column, climate_columns):\n",
    "    \"\"\"Calculate statistics for climate variables by region.\n",
    "    \n",
    "    Parameters:\n",
    "    gdf (GeoDataFrame): The GeoDataFrame containing climate and spatial data\n",
    "    region_column (str): The column containing region identifiers\n",
    "    climate_columns (list): The columns containing climate variables\n",
    "    \n",
    "    Returns:\n",
    "    DataFrame: A DataFrame containing statistics for each region and climate variable\n",
    "    \"\"\"\n",
    "    # TODO: Implement this function\n",
    "    pass\n",
    "\n",
    "regional_stats = None\n",
    "\n",
    "# TODO: Create comparative visualizations of regional climate variations\n",
    "def plot_regional_variations(stats_df, region_column, climate_columns, title, figsize=(12, 8)):\n",
    "    \"\"\"Create visualizations comparing regional climate variations.\n",
    "    \n",
    "    Parameters:\n",
    "    stats_df (DataFrame): The DataFrame containing regional statistics\n",
    "    region_column (str): The column containing region identifiers\n",
    "    climate_columns (list): The columns containing climate variables\n",
    "    title (str): The title of the plot\n",
    "    figsize (tuple): The figure size\n",
    "    \n",
    "    Returns:\n",
    "    matplotlib.figure.Figure: The created figure\n",
    "    \"\"\"\n",
    "    # TODO: Implement this function\n",
    "    pass\n",
    "\n",
    "variations_plot = None"
   ]
  },
  {
   "cell_type": "markdown",
   "metadata": {},
   "source": [
    "## Conclusion\n",
    "\n",
    "### Task 5: Summarize Findings\n",
    "Summarize your key findings from the climate change analysis."
   ]
  },
  {
   "cell_type": "markdown",
   "metadata": {},
   "source": [
    "**TODO: Write a summary of your findings here.**\n",
    "\n",
    "Your summary should include:\n",
    "1. Key observations about temperature trends\n",
    "2. Identified climate change hotspots\n",
    "3. Notable regional variations\n",
    "4. Potential implications for Tanzania\n",
    "5. Recommendations for further analysis"
   ]
  }
 ],
 "metadata": {
  "kernelspec": {
   "display_name": "Python 3",
   "language": "python",
   "name": "python3"
  },
  "language_info": {
   "codemirror_mode": {
    "name": "ipython",
    "version": 3
   },
   "file_extension": ".py",
   "mimetype": "text/x-python",
   "name": "python",
   "nbconvert_exporter": "python",
   "pygments_lexer": "ipython3",
   "version": "3.8.8"
  }
 },
 "nbformat": 4,
 "nbformat_minor": 4
}
